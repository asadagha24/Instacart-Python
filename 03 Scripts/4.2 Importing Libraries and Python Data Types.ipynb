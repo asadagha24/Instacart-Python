{
 "cells": [
  {
   "cell_type": "markdown",
   "id": "d0b3c939-bfaa-438b-9b51-4a75526f4dbd",
   "metadata": {},
   "source": [
    "# 01. Importing Libraries"
   ]
  },
  {
   "cell_type": "code",
   "execution_count": 6,
   "id": "f134ce73-e8b5-4ec8-914c-baec13d18f9d",
   "metadata": {},
   "outputs": [],
   "source": [
    "# Import Libraries\n",
    "import pandas as pd\n",
    "import numpy as np\n",
    "import os"
   ]
  },
  {
   "cell_type": "markdown",
   "id": "17e95b46-da2e-4a48-8a33-d46d9a6d7e5e",
   "metadata": {},
   "source": [
    "# 02. Working With Python Data Types"
   ]
  },
  {
   "cell_type": "code",
   "execution_count": 10,
   "id": "aad01006-d757-4fd3-b2d7-f07f361338d6",
   "metadata": {},
   "outputs": [],
   "source": [
    "# Code 3 different ways of reaching a result of 100 by adding or subtracting numeric values. \n",
    "x = 25\n",
    "y = 75\n",
    "z = 50"
   ]
  },
  {
   "cell_type": "code",
   "execution_count": 11,
   "id": "d6f29c3f-1c1e-47f9-a0b2-f9e8a10ab60b",
   "metadata": {},
   "outputs": [
    {
     "data": {
      "text/plain": [
       "100"
      ]
     },
     "execution_count": 11,
     "metadata": {},
     "output_type": "execute_result"
    }
   ],
   "source": [
    "x + y"
   ]
  },
  {
   "cell_type": "code",
   "execution_count": 14,
   "id": "2ec6c4be-3220-41de-93c3-ad0f90ddc950",
   "metadata": {},
   "outputs": [
    {
     "data": {
      "text/plain": [
       "100"
      ]
     },
     "execution_count": 14,
     "metadata": {},
     "output_type": "execute_result"
    }
   ],
   "source": [
    "x + x + z"
   ]
  },
  {
   "cell_type": "code",
   "execution_count": 16,
   "id": "a62f8bf0-8bed-41ed-8d9a-2759ab5d1fbe",
   "metadata": {},
   "outputs": [
    {
     "data": {
      "text/plain": [
       "100"
      ]
     },
     "execution_count": 16,
     "metadata": {},
     "output_type": "execute_result"
    }
   ],
   "source": [
    "y + y - z"
   ]
  },
  {
   "cell_type": "code",
   "execution_count": 20,
   "id": "3eca7fca-8936-4044-b610-5ccea9101126",
   "metadata": {},
   "outputs": [],
   "source": [
    "# Code 2 floating-point variables and divide them by each other.\n",
    "a = 2.50\n",
    "b = 0.75"
   ]
  },
  {
   "cell_type": "code",
   "execution_count": 21,
   "id": "ae52baba-b8d2-4e62-8535-d7a4e4526ab7",
   "metadata": {},
   "outputs": [
    {
     "data": {
      "text/plain": [
       "3.3333333333333335"
      ]
     },
     "execution_count": 21,
     "metadata": {},
     "output_type": "execute_result"
    }
   ],
   "source": [
    "a/b"
   ]
  },
  {
   "cell_type": "code",
   "execution_count": 24,
   "id": "839354d8-48c7-4cca-b4b8-81cdef7feff5",
   "metadata": {},
   "outputs": [],
   "source": [
    "# Construct a short word made of separate strings.\n",
    "c = 'uni'\n",
    "d = 'verse'"
   ]
  },
  {
   "cell_type": "code",
   "execution_count": 25,
   "id": "eea2534a-ffba-410c-8377-3ac6894c97dc",
   "metadata": {},
   "outputs": [
    {
     "data": {
      "text/plain": [
       "'universe'"
      ]
     },
     "execution_count": 25,
     "metadata": {},
     "output_type": "execute_result"
    }
   ],
   "source": [
    "c + d"
   ]
  },
  {
   "cell_type": "code",
   "execution_count": 38,
   "id": "fc86f520-cd21-4d61-aa0c-3e7364de1466",
   "metadata": {},
   "outputs": [],
   "source": [
    "# Construct 2 short sentences made of separate strings.\n",
    "e = 'I '\n",
    "f = 'am going home.'\n",
    "g = 'will call you later.'"
   ]
  },
  {
   "cell_type": "code",
   "execution_count": 39,
   "id": "c1a0d62d-e521-4b30-8dbc-6be8d9d41bd0",
   "metadata": {},
   "outputs": [
    {
     "data": {
      "text/plain": [
       "'I am going home.'"
      ]
     },
     "execution_count": 39,
     "metadata": {},
     "output_type": "execute_result"
    }
   ],
   "source": [
    "e + f"
   ]
  },
  {
   "cell_type": "code",
   "execution_count": 42,
   "id": "78af471e-18fb-4b59-9cf7-031ab8bbbcfc",
   "metadata": {},
   "outputs": [
    {
     "data": {
      "text/plain": [
       "'I will call you later.'"
      ]
     },
     "execution_count": 42,
     "metadata": {},
     "output_type": "execute_result"
    }
   ],
   "source": [
    "e + g"
   ]
  }
 ],
 "metadata": {
  "kernelspec": {
   "display_name": "Python 3 (ipykernel)",
   "language": "python",
   "name": "python3"
  },
  "language_info": {
   "codemirror_mode": {
    "name": "ipython",
    "version": 3
   },
   "file_extension": ".py",
   "mimetype": "text/x-python",
   "name": "python",
   "nbconvert_exporter": "python",
   "pygments_lexer": "ipython3",
   "version": "3.12.4"
  }
 },
 "nbformat": 4,
 "nbformat_minor": 5
}
